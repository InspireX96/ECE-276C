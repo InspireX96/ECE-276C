{
 "cells": [
  {
   "cell_type": "markdown",
   "metadata": {},
   "source": [
    "# ECE 276C HW3 P2\n",
    "Mingwei Xu A53270271"
   ]
  },
  {
   "cell_type": "code",
   "execution_count": 21,
   "metadata": {},
   "outputs": [],
   "source": [
    "import pickle\n",
    "import gym\n",
    "import pybulletgym.envs\n",
    "import numpy as np\n",
    "from matplotlib import pyplot as plt\n",
    "\n",
    "import torch\n",
    "from torch import nn, optim\n",
    "from torch.distributions import MultivariateNormal"
   ]
  },
  {
   "cell_type": "markdown",
   "metadata": {},
   "source": [
    "## Setup CUDA"
   ]
  },
  {
   "cell_type": "code",
   "execution_count": 22,
   "metadata": {},
   "outputs": [
    {
     "name": "stdout",
     "output_type": "stream",
     "text": [
      "Using device : cpu\n"
     ]
    }
   ],
   "source": [
    "# setup device\n",
    "# device = torch.device(\"cuda\" if torch.cuda.is_available() else \"cpu\")\n",
    "device = torch.device('cpu')    # CPU seems faster in this question\n",
    "print('Using device :', device)\n",
    "\n",
    "if device.type == 'cuda':\n",
    "    print(torch.cuda.get_device_name(0))"
   ]
  },
  {
   "cell_type": "markdown",
   "metadata": {},
   "source": [
    "## Define Network"
   ]
  },
  {
   "cell_type": "code",
   "execution_count": 23,
   "metadata": {},
   "outputs": [],
   "source": [
    "class PolicyNetwork(nn.Module):\n",
    "    \"\"\"\n",
    "    Policy Network using MLP\n",
    "    \"\"\"\n",
    "    def __init__(self, env):\n",
    "        \"\"\"\n",
    "        :param env: object, gym environment\n",
    "        \"\"\"\n",
    "        super(PolicyNetwork, self).__init__()\n",
    "        # get state space and action space dimension\n",
    "        self.state_space_n = env.observation_space.shape[0] - 1   # should be 8 (TODO: bug in env showing wrong observation space?)\n",
    "        self.action_space_n = env.action_space.shape[0]   # should be 2\n",
    "\n",
    "        # define layers\n",
    "        self.l1 = nn.Linear(self.state_space_n, 128)\n",
    "        self.l2 = nn.Linear(128, 64)\n",
    "        self.l3 = nn.Linear(64, self.action_space_n)\n",
    "\n",
    "#         self.sigma = nn.Parameter(torch.eye(2))     # initalize cov matrix with grad fn\n",
    "        self.sigma = nn.Parameter(torch.diag(torch.FloatTensor([0.2, 0.2])))\n",
    "\n",
    "    def forward(self, x):\n",
    "        \"\"\"\n",
    "        Feed forward\n",
    "        \n",
    "        :param x: np array, state\n",
    "        :return: tensor, softmax probability of action\n",
    "        \"\"\"\n",
    "        # TODO: take sigma as input\n",
    "        # build neural network\n",
    "        network = nn.Sequential(\n",
    "            self.l1,\n",
    "            nn.Tanh(),\n",
    "            self.l2,\n",
    "            nn.Tanh(),\n",
    "            self.l3,\n",
    "            nn.Tanh())\n",
    "\n",
    "        return network(torch.FloatTensor(x).to(device))"
   ]
  },
  {
   "cell_type": "markdown",
   "metadata": {},
   "source": [
    "## Choose Action"
   ]
  },
  {
   "cell_type": "code",
   "execution_count": 24,
   "metadata": {},
   "outputs": [],
   "source": [
    "def choose_action(policy_network, state, eval_policy=False):\n",
    "    \"\"\"\n",
    "    Choose action according to policy on given state\n",
    "\n",
    "    :param policy_network: object, policy network\n",
    "    :param state: np array, state\n",
    "    :param eval_policy: bool, flag to turn on when evaluating policy.\n",
    "                        It will disable sample and return action directly from policy network output.\n",
    "    :returns: list (len=2), action; tensor with grad fn, log probability\n",
    "    \"\"\"\n",
    "    probs = policy_network.forward(state)   # mean from policy network output\n",
    "\n",
    "    cov = torch.abs(policy_network.sigma) + 1e-3    # positive definite\n",
    "\n",
    "    m = MultivariateNormal(probs, cov)\n",
    "    action = m.sample()\n",
    "    log_prob = m.log_prob(action)\n",
    "    \n",
    "    if eval_policy:\n",
    "        print('action: ', probs)\n",
    "        return probs.tolist(), log_prob\n",
    "\n",
    "    return action.tolist(), log_prob"
   ]
  },
  {
   "cell_type": "markdown",
   "metadata": {},
   "source": [
    "## Question 2"
   ]
  },
  {
   "cell_type": "code",
   "execution_count": 25,
   "metadata": {},
   "outputs": [],
   "source": [
    "def reinforce(env, policy_network, batch_size=500, num_episodes=200, lr=0.01, gamma=0.99):\n",
    "    \"\"\"\n",
    "    Policy gradient training using reinforce method\n",
    "\n",
    "    :param env: object, gym environment\n",
    "    :param policy_network: object, policy network\n",
    "    :param batch_size: int, batch size\n",
    "    :param num_episodes: int, number of episodes\n",
    "    :param lr: float, learning rate\n",
    "    :param gamma: float (0~1), discount factor\n",
    "    :return: list of average reward on each episode\n",
    "    \"\"\"\n",
    "    # setup place holders\n",
    "    average_reward_list = []  # store step over episode\n",
    "\n",
    "    # define optimizer\n",
    "    optimizer = optim.Adam(policy_network.parameters(), \n",
    "                           lr=lr)\n",
    "\n",
    "    # train\n",
    "    for i in range(num_episodes):\n",
    "        # setup placeholders for each batch\n",
    "        batch_loss_sum = 0\n",
    "        batch_traj_counter = 0\n",
    "        batch_rewards = []\n",
    "\n",
    "        # setup placeholders for each trajectory\n",
    "        traj_rewards = []\n",
    "        traj_log_prob_sum = 0\n",
    "\n",
    "        # reset environment\n",
    "        state = env.reset()\n",
    "        done = False\n",
    "\n",
    "        # batch\n",
    "        for step in range(batch_size):\n",
    "            # exploration\n",
    "            action, log_prob = choose_action(policy_network, state)\n",
    "            state_next, reward, done, _ = env.step(action)\n",
    "            # env.render()\n",
    "\n",
    "            # store data\n",
    "            traj_rewards.append(reward)\n",
    "            traj_log_prob_sum += log_prob\n",
    "\n",
    "            # move on\n",
    "            if done or (step == batch_size - 1):\n",
    "                # trajectory or batch finished, update trajectory\n",
    "                traj_discounted_return = torch.sum(torch.FloatTensor(traj_rewards).to(device) *\n",
    "                                                   torch.FloatTensor([gamma ** t for t in range(1, len(traj_rewards) + 1)]).to(device))  # G(t)\n",
    "                batch_loss_sum += traj_discounted_return * traj_log_prob_sum\n",
    "                \n",
    "                # reset state\n",
    "                batch_rewards.append(np.sum(traj_rewards))\n",
    "                batch_traj_counter += 1\n",
    "\n",
    "                traj_rewards = []\n",
    "                traj_log_prob_sum = 0\n",
    "\n",
    "                state = env.reset()\n",
    "            else:\n",
    "                state = state_next\n",
    "\n",
    "        # finish batch\n",
    "        average_batch_reward = np.mean(batch_rewards)\n",
    "        average_reward_list.append(average_batch_reward)\n",
    "        loss = - batch_loss_sum / batch_traj_counter\n",
    "        \n",
    "        print('Episode [{}/{}] loss: {:.2f}, average reward: {:.2f}, trajectory num: {}'.format(i + 1, num_episodes,\n",
    "                               loss.item(), average_batch_reward, batch_traj_counter))\n",
    "\n",
    "        # update policy\n",
    "        optimizer.zero_grad()\n",
    "        loss.backward()\n",
    "        optimizer.step()\n",
    "\n",
    "    return average_reward_list"
   ]
  },
  {
   "cell_type": "code",
   "execution_count": 26,
   "metadata": {},
   "outputs": [],
   "source": [
    "def reinforce_with_baseline(env, policy_network, batch_size=500, num_episodes=200, lr=0.01, gamma=0.99, enable_baseline=False):\n",
    "    \"\"\"\n",
    "    Policy gradient training using modified reinforce method with baseline\n",
    "\n",
    "    :param env: object, gym environment\n",
    "    :param policy_network: object, policy network\n",
    "    :param batch_size: int, batch size\n",
    "    :param num_episodes: int, number of episodes\n",
    "    :param lr: float, learning rate\n",
    "    :param gamma: float (0~1), discount factor\n",
    "    :param enable_baseline: bool, flag to enable baseline, defaults to False\n",
    "    :return: list of average reward on each episode\n",
    "    \"\"\"\n",
    "    # setup place holders\n",
    "    average_reward_list = []  # store step over episode\n",
    "    average_step_list = []\n",
    "\n",
    "    # define optimizer\n",
    "    optimizer = optim.Adam(policy_network.parameters(), \n",
    "                           lr=lr)\n",
    "\n",
    "    # train\n",
    "    for i in range(num_episodes):\n",
    "        # setup placeholders for each batch\n",
    "        batch_loss_sum = 0\n",
    "        batch_traj_counter = 0\n",
    "        batch_rewards = []\n",
    "        batch_log_prob_list = []\n",
    "        batch_discounted_return_list = []\n",
    "        batch_traj_steps = []\n",
    "\n",
    "        # setup placeholders for each trajectory\n",
    "        traj_rewards = []\n",
    "        traj_log_prob_list = []\n",
    "        traj_step_counter = 0\n",
    "\n",
    "        # reset environment\n",
    "        state = env.reset()\n",
    "        done = False\n",
    "\n",
    "        # batch\n",
    "        for step in range(batch_size):\n",
    "            # exploration\n",
    "            action, log_prob = choose_action(policy_network, state)\n",
    "            state_next, reward, done, _ = env.step(action)\n",
    "            # env.render()\n",
    "\n",
    "            # store data\n",
    "            traj_rewards.append(reward)\n",
    "            traj_log_prob_list.append(log_prob)\n",
    "\n",
    "            # move on\n",
    "            if done or (step == batch_size - 1):\n",
    "                # trajectory or batch finished, update trajectory\n",
    "                discounted_return_list = [sum([gamma ** (t_prime - t) * traj_rewards[t_prime] for t_prime in range(t, len(traj_rewards))]) \\\n",
    "                                          for t in range(1, len(traj_rewards) + 1)]\n",
    "\n",
    "                # collect batch info\n",
    "                batch_log_prob_list.extend(traj_log_prob_list)\n",
    "                batch_discounted_return_list.extend(discounted_return_list)\n",
    "                \n",
    "                # reset state\n",
    "                batch_rewards.append(np.sum(traj_rewards))\n",
    "                batch_traj_counter += 1\n",
    "                batch_traj_steps.append(traj_step_counter)\n",
    "\n",
    "                traj_step_counter = 0\n",
    "                traj_rewards = []\n",
    "                traj_log_prob_list = []\n",
    "\n",
    "                state = env.reset()\n",
    "            else:\n",
    "                state = state_next\n",
    "\n",
    "        # finish batch\n",
    "        # subtract average returns if baseline is enabled\n",
    "        if enable_baseline:\n",
    "            batch_discounted_return_list -= np.mean(batch_discounted_return_list)\n",
    "        \n",
    "        # sum the traj loss by loop so we do not lose tensor gradient\n",
    "        for step in range(len(batch_log_prob_list)):\n",
    "            batch_loss_sum += batch_log_prob_list[step] * batch_discounted_return_list[step]\n",
    "        \n",
    "        average_batch_reward = np.mean(batch_rewards)\n",
    "        average_reward_list.append(average_batch_reward)\n",
    "        average_step_list.append(np.mean(batch_traj_steps))\n",
    "        loss = - batch_loss_sum / batch_traj_counter    # TODO\n",
    "        \n",
    "        print('TODO: sigma: ', policy_network.sigma)    # TODO\n",
    "        print('Episode [{}/{}] loss: {:.2f}, average reward: {:.2f}, trajectory num: {}'.format(i + 1, num_episodes,\n",
    "                               loss.item(), average_batch_reward, batch_traj_counter))\n",
    "\n",
    "        # update policy\n",
    "        optimizer.zero_grad()\n",
    "        loss.backward()\n",
    "        optimizer.step()\n",
    "\n",
    "    return average_reward_list, average_step_list"
   ]
  },
  {
   "cell_type": "markdown",
   "metadata": {},
   "source": [
    "### Training"
   ]
  },
  {
   "cell_type": "code",
   "execution_count": 27,
   "metadata": {},
   "outputs": [
    {
     "name": "stdout",
     "output_type": "stream",
     "text": [
      "options= \n",
      "[ 0.3928371   0.3928371  -0.68091764  0.26561381  0.5         0.\n",
      "  0.08333333  0.        ]\n"
     ]
    },
    {
     "ename": "TypeError",
     "evalue": "diag(): argument 'input' (position 1) must be Tensor, not list",
     "output_type": "error",
     "traceback": [
      "\u001b[0;31m---------------------------------------------------------------------------\u001b[0m",
      "\u001b[0;31mTypeError\u001b[0m                                 Traceback (most recent call last)",
      "\u001b[0;32m<ipython-input-27-6701ff1f81eb>\u001b[0m in \u001b[0;36m<module>\u001b[0;34m\u001b[0m\n\u001b[1;32m      6\u001b[0m \u001b[0;34m\u001b[0m\u001b[0m\n\u001b[1;32m      7\u001b[0m \u001b[0;31m# setup network\u001b[0m\u001b[0;34m\u001b[0m\u001b[0;34m\u001b[0m\u001b[0;34m\u001b[0m\u001b[0m\n\u001b[0;32m----> 8\u001b[0;31m \u001b[0mpolicy_network\u001b[0m \u001b[0;34m=\u001b[0m \u001b[0mPolicyNetwork\u001b[0m\u001b[0;34m(\u001b[0m\u001b[0menv\u001b[0m\u001b[0;34m)\u001b[0m\u001b[0;34m.\u001b[0m\u001b[0mto\u001b[0m\u001b[0;34m(\u001b[0m\u001b[0mdevice\u001b[0m\u001b[0;34m)\u001b[0m\u001b[0;34m\u001b[0m\u001b[0;34m\u001b[0m\u001b[0m\n\u001b[0m\u001b[1;32m      9\u001b[0m average_reward_list, average_step_list = reinforce_with_baseline(env, policy_network,batch_size=2000, num_episodes=500,\n\u001b[1;32m     10\u001b[0m                                               lr=0.01, gamma=0.9, enable_baseline=True)\n",
      "\u001b[0;32m<ipython-input-23-2c9e5f1e0f15>\u001b[0m in \u001b[0;36m__init__\u001b[0;34m(self, env)\u001b[0m\n\u001b[1;32m     18\u001b[0m \u001b[0;34m\u001b[0m\u001b[0m\n\u001b[1;32m     19\u001b[0m \u001b[0;31m#         self.sigma = nn.Parameter(torch.eye(2))     # initalize cov matrix with grad fn\u001b[0m\u001b[0;34m\u001b[0m\u001b[0;34m\u001b[0m\u001b[0;34m\u001b[0m\u001b[0m\n\u001b[0;32m---> 20\u001b[0;31m         \u001b[0mself\u001b[0m\u001b[0;34m.\u001b[0m\u001b[0msigma\u001b[0m \u001b[0;34m=\u001b[0m \u001b[0mnn\u001b[0m\u001b[0;34m.\u001b[0m\u001b[0mParameter\u001b[0m\u001b[0;34m(\u001b[0m\u001b[0mtorch\u001b[0m\u001b[0;34m.\u001b[0m\u001b[0mdiag\u001b[0m\u001b[0;34m(\u001b[0m\u001b[0;34m[\u001b[0m\u001b[0;36m0.2\u001b[0m\u001b[0;34m,\u001b[0m \u001b[0;36m0.2\u001b[0m\u001b[0;34m]\u001b[0m\u001b[0;34m)\u001b[0m\u001b[0;34m)\u001b[0m\u001b[0;34m\u001b[0m\u001b[0;34m\u001b[0m\u001b[0m\n\u001b[0m\u001b[1;32m     21\u001b[0m \u001b[0;34m\u001b[0m\u001b[0m\n\u001b[1;32m     22\u001b[0m     \u001b[0;32mdef\u001b[0m \u001b[0mforward\u001b[0m\u001b[0;34m(\u001b[0m\u001b[0mself\u001b[0m\u001b[0;34m,\u001b[0m \u001b[0mx\u001b[0m\u001b[0;34m)\u001b[0m\u001b[0;34m:\u001b[0m\u001b[0;34m\u001b[0m\u001b[0;34m\u001b[0m\u001b[0m\n",
      "\u001b[0;31mTypeError\u001b[0m: diag(): argument 'input' (position 1) must be Tensor, not list"
     ]
    }
   ],
   "source": [
    "env = gym.make('modified_gym_env:ReacherPyBulletEnv-v1', rand_init=False)\n",
    "# env.render()\n",
    "# TODO: test\n",
    "state = env.reset()\n",
    "print(state)\n",
    "\n",
    "# setup network\n",
    "policy_network = PolicyNetwork(env).to(device)\n",
    "average_reward_list, average_step_list = reinforce_with_baseline(env, policy_network,batch_size=2000, num_episodes=500,\n",
    "                                              lr=0.01, gamma=0.9, enable_baseline=True)"
   ]
  },
  {
   "cell_type": "markdown",
   "metadata": {},
   "source": [
    "### Plot"
   ]
  },
  {
   "cell_type": "code",
   "execution_count": null,
   "metadata": {},
   "outputs": [],
   "source": [
    "%matplotlib inline\n",
    "plt.figure()\n",
    "plt.plot(average_reward_list)\n",
    "plt.xlabel('iteration')\n",
    "plt.ylabel('average reward')\n",
    "plt.title('Question 2 Average Rewards at Each Iteration')\n",
    "plt.savefig('Question_2.png')\n",
    "plt.show()\n",
    "\n",
    "plt.figure()\n",
    "plt.plot(average_step_list)\n",
    "plt.xlabel('iteration')\n",
    "plt.ylabel('average step')\n",
    "plt.title('Question 2 Average Steps at Each Iteration')\n",
    "plt.savefig('Question_2.png')\n",
    "plt.show()"
   ]
  },
  {
   "cell_type": "markdown",
   "metadata": {},
   "source": [
    "### Save Policy"
   ]
  },
  {
   "cell_type": "code",
   "execution_count": null,
   "metadata": {},
   "outputs": [],
   "source": [
    "with open('p2_policy.pkl', 'wb') as pickle_file:\n",
    "    pickle.dump(policy_network, pickle_file)"
   ]
  },
  {
   "cell_type": "markdown",
   "metadata": {},
   "source": [
    "## Test Policy"
   ]
  },
  {
   "cell_type": "code",
   "execution_count": null,
   "metadata": {},
   "outputs": [],
   "source": [
    "# load policy\n",
    "# with open('p2_policy.pkl', 'rb') as pickle_file:\n",
    "#     policy_network = pickle.load(pickle_file)\n",
    "\n",
    "# test policy\n",
    "env = gym.make('modified_gym_env:ReacherPyBulletEnv-v1', rand_init=False)\n",
    "# env.render()\n",
    "state = env.reset()\n",
    "done = False\n",
    "steps = 0\n",
    "\n",
    "while not done:\n",
    "    # TODO: do not sample here\n",
    "    action, log_prob = choose_action(policy_network, state, eval_policy=True)\n",
    "    state_next, reward, done, _ = env.step(action)\n",
    "    steps += 1\n",
    "\n",
    "print('Finished in {} steps'.format(steps))"
   ]
  },
  {
   "cell_type": "code",
   "execution_count": null,
   "metadata": {},
   "outputs": [],
   "source": []
  },
  {
   "cell_type": "code",
   "execution_count": null,
   "metadata": {},
   "outputs": [],
   "source": []
  }
 ],
 "metadata": {
  "file_extension": ".py",
  "kernelspec": {
   "display_name": "Python 3",
   "language": "python",
   "name": "python3"
  },
  "language_info": {
   "codemirror_mode": {
    "name": "ipython",
    "version": 3
   },
   "file_extension": ".py",
   "mimetype": "text/x-python",
   "name": "python",
   "nbconvert_exporter": "python",
   "pygments_lexer": "ipython3",
   "version": "3.7.3"
  },
  "mimetype": "text/x-python",
  "name": "python",
  "npconvert_exporter": "python",
  "pygments_lexer": "ipython3",
  "version": 3
 },
 "nbformat": 4,
 "nbformat_minor": 2
}
